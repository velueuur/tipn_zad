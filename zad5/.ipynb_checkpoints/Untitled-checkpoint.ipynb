{
 "cells": [
  {
   "cell_type": "code",
   "execution_count": 3,
   "metadata": {},
   "outputs": [
    {
     "name": "stdin",
     "output_type": "stream",
     "text": [
      "Podaj hasło: Pijas\n"
     ]
    },
    {
     "name": "stdout",
     "output_type": "stream",
     "text": [
      "Podałeś złe hasło.\n"
     ]
    },
    {
     "name": "stdin",
     "output_type": "stream",
     "text": [
      "Podaj hasło: Krzysiu\n"
     ]
    },
    {
     "name": "stdout",
     "output_type": "stream",
     "text": [
      "Podałeś złe hasło.\n"
     ]
    },
    {
     "name": "stdin",
     "output_type": "stream",
     "text": [
      "Podaj hasło: Janusz Moryś\n"
     ]
    },
    {
     "name": "stdout",
     "output_type": "stream",
     "text": [
      "Podałeś dobre hasło,brawo.\n"
     ]
    }
   ],
   "source": [
    "haslo=input(\"Podaj hasło:\")\n",
    "\n",
    "while haslo != 'Janusz Moryś':\n",
    "    print(\"Podałeś złe hasło.\")\n",
    "    haslo=input(\"Podaj hasło:\")\n",
    "    \n",
    "print(\"Podałeś dobre hasło,brawo.\")    "
   ]
  },
  {
   "cell_type": "code",
   "execution_count": 6,
   "metadata": {},
   "outputs": [
    {
     "name": "stdout",
     "output_type": "stream",
     "text": [
      "i to:  0\n",
      "i to:  6\n",
      "i to:  12\n",
      "i to:  18\n",
      "i to:  24\n",
      "i to:  30\n",
      "i to:  36\n",
      "i to:  42\n",
      "i to:  48\n",
      "i to:  54\n",
      "i to:  60\n",
      "i to:  66\n",
      "i to:  72\n",
      "i to:  78\n",
      "i to:  84\n",
      "i to:  90\n",
      "i to:  96\n"
     ]
    }
   ],
   "source": [
    "i = 0\n",
    "\n",
    "while i <= 100:\n",
    "    if (i % 2 == 0) and (i % 3 == 0):\n",
    "        print(\"i to: \", i)\n",
    "    i += 1"
   ]
  },
  {
   "cell_type": "code",
   "execution_count": 7,
   "metadata": {},
   "outputs": [],
   "source": [
    "imiona= ['Ania', 'Basia', 'Kasia', 'Zosia', 'Czesia']"
   ]
  },
  {
   "cell_type": "code",
   "execution_count": 10,
   "metadata": {},
   "outputs": [
    {
     "name": "stdout",
     "output_type": "stream",
     "text": [
      "Ania Nowak\n",
      "Basia Nowak\n",
      "Kasia Nowak\n",
      "Zosia Nowak\n",
      "Czesia Nowak\n"
     ]
    }
   ],
   "source": [
    "for i in imiona:\n",
    "        print (i+ ' Nowak')\n",
    "        "
   ]
  },
  {
   "cell_type": "code",
   "execution_count": 11,
   "metadata": {},
   "outputs": [
    {
     "data": {
      "text/plain": [
       "['Ania Nowak', 'Basia Nowak', 'Kasia Nowak', 'Zosia Nowak', 'Czesia Nowak']"
      ]
     },
     "execution_count": 11,
     "metadata": {},
     "output_type": "execute_result"
    }
   ],
   "source": [
    "imiona_nazwiska = []\n",
    "\n",
    "for i in imiona:\n",
    "        imiona_nazwiska.append(i+ ' Nowak')\n",
    "        \n",
    "imiona_nazwiska        "
   ]
  },
  {
   "cell_type": "code",
   "execution_count": 12,
   "metadata": {},
   "outputs": [
    {
     "data": {
      "text/plain": [
       "6"
      ]
     },
     "execution_count": 12,
     "metadata": {},
     "output_type": "execute_result"
    }
   ],
   "source": [
    "len(imiona[4])"
   ]
  },
  {
   "cell_type": "code",
   "execution_count": 14,
   "metadata": {},
   "outputs": [
    {
     "data": {
      "text/plain": [
       "[4, 5, 5, 5, 6]"
      ]
     },
     "execution_count": 14,
     "metadata": {},
     "output_type": "execute_result"
    }
   ],
   "source": [
    "dlugosc_imion = []\n",
    "\n",
    "for i in imiona:\n",
    "    dlugosc_imion.append(len(i))\n",
    "    \n",
    "dlugosc_imion    "
   ]
  },
  {
   "cell_type": "code",
   "execution_count": 15,
   "metadata": {},
   "outputs": [
    {
     "data": {
      "text/plain": [
       "'ęczy'"
      ]
     },
     "execution_count": 15,
     "metadata": {},
     "output_type": "execute_result"
    }
   ],
   "source": [
    "napis= 'Brzęczyszczykiewicz'\n",
    "napis[3:7]"
   ]
  },
  {
   "cell_type": "code",
   "execution_count": 16,
   "metadata": {},
   "outputs": [
    {
     "name": "stdout",
     "output_type": "stream",
     "text": [
      "B\n",
      "r\n",
      "z\n",
      "ę\n",
      "c\n",
      "z\n",
      "y\n",
      "s\n",
      "z\n",
      "c\n",
      "z\n",
      "y\n",
      "k\n",
      "i\n",
      "e\n",
      "w\n",
      "i\n",
      "c\n",
      "z\n"
     ]
    }
   ],
   "source": [
    "for literka in napis:\n",
    "    print(literka)"
   ]
  },
  {
   "cell_type": "code",
   "execution_count": 19,
   "metadata": {},
   "outputs": [
    {
     "name": "stdout",
     "output_type": "stream",
     "text": [
      "W tym jest 0 literek a\n"
     ]
    }
   ],
   "source": [
    "l = 0\n",
    "\n",
    "for literka in napis:\n",
    "    if literka == 'a'or (literka == 'A'):\n",
    "        l +=1\n",
    "print(\"W tym jest\", l, \"literek a\")        \n",
    "    \n"
   ]
  },
  {
   "cell_type": "code",
   "execution_count": null,
   "metadata": {},
   "outputs": [],
   "source": []
  }
 ],
 "metadata": {
  "kernelspec": {
   "display_name": "Python 3",
   "language": "python",
   "name": "python3"
  },
  "language_info": {
   "codemirror_mode": {
    "name": "ipython",
    "version": 3
   },
   "file_extension": ".py",
   "mimetype": "text/x-python",
   "name": "python",
   "nbconvert_exporter": "python",
   "pygments_lexer": "ipython3",
   "version": "3.7.0"
  }
 },
 "nbformat": 4,
 "nbformat_minor": 2
}
