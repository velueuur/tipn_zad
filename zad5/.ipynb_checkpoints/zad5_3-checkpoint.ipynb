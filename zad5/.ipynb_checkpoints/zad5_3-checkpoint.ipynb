{
 "cells": [
  {
   "cell_type": "code",
   "execution_count": 3,
   "metadata": {},
   "outputs": [
    {
     "name": "stdin",
     "output_type": "stream",
     "text": [
      "Podaj zdanie Pada śnieg\n"
     ]
    },
    {
     "name": "stdout",
     "output_type": "stream",
     "text": [
      "W zdaniu znajdują się 2 słowa\n"
     ]
    }
   ],
   "source": [
    "zdanie = input(\"Podaj zdanie\")\n",
    "\n",
    "l = 0\n",
    "\n",
    "jakas_lista = [1]\n",
    "\n",
    "for l in zdanie:\n",
    "    if  l == ' ':\n",
    "        jakas_lista.append(1)\n",
    "if len(jakas_lista) > 4:\n",
    "    print(\"W zdaniu znajduje się\" , len(jakas_lista), \"słów\")\n",
    "if len(jakas_lista) == 1:\n",
    "    print(\"W zdaniu znajduje się\", len(jakas_lista), \"słowo\" )\n",
    "if len(jakas_lista) == 2 or 3 or 4:\n",
    "    print(\"W zdaniu znajdują się\", len(jakas_lista), \"słowa\" )"
   ]
  },
  {
   "cell_type": "code",
   "execution_count": null,
   "metadata": {},
   "outputs": [],
   "source": []
  }
 ],
 "metadata": {
  "kernelspec": {
   "display_name": "Python 3",
   "language": "python",
   "name": "python3"
  },
  "language_info": {
   "codemirror_mode": {
    "name": "ipython",
    "version": 3
   },
   "file_extension": ".py",
   "mimetype": "text/x-python",
   "name": "python",
   "nbconvert_exporter": "python",
   "pygments_lexer": "ipython3",
   "version": "3.7.0"
  }
 },
 "nbformat": 4,
 "nbformat_minor": 2
}
