{
 "cells": [
  {
   "cell_type": "markdown",
   "metadata": {},
   "source": [
    "## Test zadowolenia z życia"
   ]
  },
  {
   "cell_type": "markdown",
   "metadata": {},
   "source": [
    "#### Składa się on z 5 pytań, które pozwolą określić, czy Twoje życie wystarczająco Cię zadowala "
   ]
  },
  {
   "cell_type": "code",
   "execution_count": 3,
   "metadata": {},
   "outputs": [],
   "source": [
    "a = \"W większości spraw moje życie jest bliskie mojego ideału\"\n",
    "b = \"Warunki mojego życia są doskonałe\"\n",
    "c = \"Jestem zadowolony/a ze swojego zycia\"\n",
    "d = \"Jak dotąd osiągam ważne cele, których pragnę w życiu\"\n",
    "e = \"Gdybym mógł jeszcze raz przeżyć swoje życie, prawie niczego bym nie zmienił/a\"\n",
    "punkty = []"
   ]
  },
  {
   "cell_type": "code",
   "execution_count": 2,
   "metadata": {},
   "outputs": [],
   "source": [
    "def test(os):\n",
    "\n",
    "    lista_pytan = [a, b, c, d, e]\n",
    "    \n",
    "def zadaj_pytanie(a):\n",
    "        \n",
    "    print(a)\n",
    "    ax = input(\"1 oznacza zupełnie się nie zgadzam, a 5 oznacza całkowicie się zgadzam:\")\n",
    "    ax = int(ax)\n",
    "    if ax>5 or ax<1:\n",
    "        print(\"Wpisałaś/eś złą liczbę)\n",
    "    else:\n",
    "        return ax"
   ]
  },
  {
   "cell_type": "code",
   "execution_count": 5,
   "metadata": {},
   "outputs": [
    {
     "name": "stdout",
     "output_type": "stream",
     "text": [
      "W większości spraw moje życie jest bliskie mojego ideału\n"
     ]
    },
    {
     "name": "stdin",
     "output_type": "stream",
     "text": [
      "1 oznacza zupełnie się nie zgadzam, a 5 oznacza całkowicie się zgadzam: 4\n"
     ]
    },
    {
     "name": "stdout",
     "output_type": "stream",
     "text": [
      "Warunki mojego życia są doskonałe\n"
     ]
    },
    {
     "name": "stdin",
     "output_type": "stream",
     "text": [
      "1 oznacza zupełnie się nie zgadzam, a 5 oznacza całkowicie się zgadzam: 2\n"
     ]
    },
    {
     "name": "stdout",
     "output_type": "stream",
     "text": [
      "Jestem zadowolony/a ze swojego zycia\n"
     ]
    },
    {
     "name": "stdin",
     "output_type": "stream",
     "text": [
      "1 oznacza zupełnie się nie zgadzam, a 5 oznacza całkowicie się zgadzam: 4\n"
     ]
    },
    {
     "name": "stdout",
     "output_type": "stream",
     "text": [
      "Jak dotąd osiągam ważne cele, których pragnę w życiu\n"
     ]
    },
    {
     "name": "stdin",
     "output_type": "stream",
     "text": [
      "1 oznacza zupełnie się nie zgadzam, a 5 oznacza całkowicie się zgadzam: 3\n"
     ]
    },
    {
     "name": "stdout",
     "output_type": "stream",
     "text": [
      "Gdybym mógł jeszcze raz przeżyć swoje życie, prawie niczego bym nie zmienił/a\n"
     ]
    },
    {
     "name": "stdin",
     "output_type": "stream",
     "text": [
      "1 oznacza zupełnie się nie zgadzam, a 5 oznacza całkowicie się zgadzam: 3\n"
     ]
    },
    {
     "name": "stdout",
     "output_type": "stream",
     "text": [
      "Twój wynik to 16 . Jesteś całkiem zadowolony z życia, ale zawsze można coś poprawić, by żyło się lepiej! Może wakacje?:)\n"
     ]
    }
   ],
   "source": [
    "pkt = zadaj_pytanie(a)\n",
    "punkty.append(pkt)\n",
    "pkt = zadaj_pytanie(b)\n",
    "punkty.append(pkt)\n",
    "pkt = zadaj_pytanie(c)\n",
    "punkty.append(pkt)\n",
    "pkt = zadaj_pytanie(d)\n",
    "punkty.append(pkt)\n",
    "pkt = zadaj_pytanie(e)\n",
    "punkty.append(pkt)\n",
    "wynik = sum(punkty)\n",
    "wynik = int(wynik)\n",
    "if wynik > 5 and wynik < 10:\n",
    "    print(\"Twój wynik to\", wynik, \".\", \"Widzę u Ciebie za dużo pesymizmu, zrób z tym coś!\")\n",
    "elif wynik == 5:\n",
    "    print(\"Twój wynik to\", wynik, \".\", \"Chyba czas co nieco poprawić w życiu, nie wygląda to najlepiej\")\n",
    "elif wynik >= 10 and wynik < 15:\n",
    "    print(\"Twój wynik to\", wynik, \".\", \"Hmm, wygląda na to, że mogło być gorzej, ale dobrze też nie jest. Może zrób coś dla siebie?\")\n",
    "elif wynik >= 15 and wynik < 20:\n",
    "    print(\"Twój wynik to\", wynik, \".\", \"Jesteś całkiem zadowolony z życia, ale zawsze można coś poprawić, by żyło się lepiej! Może wakacje?:)\")\n",
    "elif wynik >=20 and wynik < 25:\n",
    "    print(\"Twój wynik to\", wynik, \".\", \"Widzę, że czerpiesz z życia ile się da! To się szanuje!\")\n",
    "elif wynik == 25:\n",
    "    print(\"Twój wynik to\", wynik, \".\", \"Życie, życie jest nowelą...raz przyjazną, a raz...bardziej przyjazną! To niesamowite, że jeszcze istnieją tacy optymiści!\") \n",
    "    \n",
    "if wynik > 0:\n",
    "    punkty.pop(0)\n",
    "    punkty.pop(0)\n",
    "    punkty.pop(0)\n",
    "    punkty.pop(0)\n",
    "    punkty.pop(0)\n",
    "else:\n",
    "    print(\"Dzięki za odpowiedzi!\")"
   ]
  },
  {
   "cell_type": "code",
   "execution_count": null,
   "metadata": {},
   "outputs": [],
   "source": []
  }
 ],
 "metadata": {
  "kernelspec": {
   "display_name": "Python 3",
   "language": "python",
   "name": "python3"
  },
  "language_info": {
   "codemirror_mode": {
    "name": "ipython",
    "version": 3
   },
   "file_extension": ".py",
   "mimetype": "text/x-python",
   "name": "python",
   "nbconvert_exporter": "python",
   "pygments_lexer": "ipython3",
   "version": "3.7.0"
  }
 },
 "nbformat": 4,
 "nbformat_minor": 2
}
